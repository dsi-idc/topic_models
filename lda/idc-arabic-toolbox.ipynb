{
 "cells": [
  {
   "cell_type": "code",
   "execution_count": null,
   "metadata": {},
   "outputs": [],
   "source": [
    "from idc_arabic_toolbox_utils import *\n",
    "\n",
    "text_dicts = arab_toolbox.load_pickle(\"concise_intuview_data_tweets_30_7_2020_and_26_8_2020.p\")\n",
    "\n",
    "print(arab_toolbox.retweet_counts(text_dicts))\n",
    "\n",
    "text_list = arab_toolbox.clean_text_list(text_dicts, thread_level=False, remove_stop=True)\n",
    "\n",
    "text_list_final = arab_toolbox.pos_clean(text_list,java_path = \"C:/Program Files/Java/jdk1.8.0_261/bin/java.exe\",\n",
    "        stanford_tagger_path = \"./stanford-tagger-4.0.0/\",remove_verbs=True)\n",
    "\n",
    "text_list_final = arab_toolbox.create_ngram(text_list_final,threshold=\"low\")\n",
    "\n",
    "\n",
    "# If you like to run the whole process in another language (for example - in english - run this part and set language)\n",
    "\n",
    "# text_list_final_trans = arab_toolbox.text_list_translator(text_list_final,language='en')\n",
    "\n",
    "# dictionary,corpus = arab_toolbox.create_bow_corpus(text_list_final_trans,print=True)\n",
    "\n",
    "# print_bow(dictionary,corpus)\n",
    "\n",
    "# print_tfidf(dictionary,corpus)\n",
    "\n",
    "# lda_model = arab_toolbox.buildLDA(dictionary,corpus)\n",
    "\n",
    "# vis = arab_toolbox.lda_vis(lda_model, corpus, dictionary)\n",
    "\n",
    "\n",
    "dictionary,corpus = arab_toolbox.create_bow_corpus(text_list_final,print=True)\n"
   ]
  },
  {
   "cell_type": "code",
   "execution_count": null,
   "metadata": {},
   "outputs": [],
   "source": [
    "print_bow(dictionary,corpus)"
   ]
  },
  {
   "cell_type": "code",
   "execution_count": null,
   "metadata": {},
   "outputs": [],
   "source": [
    "print_tfidf(dictionary,corpus)"
   ]
  },
  {
   "cell_type": "code",
   "execution_count": null,
   "metadata": {},
   "outputs": [],
   "source": [
    "lda_model = arab_toolbox.buildLDA(dictionary,corpus,num_topics=4)\n",
    "\n",
    "vis = lda_vis(lda_model, corpus, dictionary)\n",
    "\n",
    "vis"
   ]
  },
  {
   "cell_type": "code",
   "execution_count": null,
   "metadata": {},
   "outputs": [],
   "source": []
  }
 ],
 "metadata": {
  "kernelspec": {
   "display_name": "Python 3",
   "language": "python",
   "name": "python3"
  },
  "language_info": {
   "codemirror_mode": {
    "name": "ipython",
    "version": 3
   },
   "file_extension": ".py",
   "mimetype": "text/x-python",
   "name": "python",
   "nbconvert_exporter": "python",
   "pygments_lexer": "ipython3",
   "version": "3.8.3"
  }
 },
 "nbformat": 4,
 "nbformat_minor": 4
}
